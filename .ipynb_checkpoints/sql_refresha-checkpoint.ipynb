{
 "cells": [
  {
   "cell_type": "code",
   "execution_count": 1,
   "metadata": {},
   "outputs": [],
   "source": [
    "import sqlite3\n",
    "import pandas as pd"
   ]
  },
  {
   "cell_type": "code",
   "execution_count": 3,
   "metadata": {},
   "outputs": [],
   "source": [
    "#connect to sql database\n",
    "conn = sqlite3.connect('retail_sales.db')\n",
    "cursor = conn.cursor()"
   ]
  },
  {
   "cell_type": "code",
   "execution_count": 5,
   "metadata": {},
   "outputs": [
    {
     "name": "stdout",
     "output_type": "stream",
     "text": [
      "   transactions_id   sale_date sale_time  customer_id  gender   age  category  \\\n",
      "0              180  2022-11-05  10:47:00          117    Male  41.0  Clothing   \n",
      "1              522  2022-07-09  11:00:00           52    Male  46.0    Beauty   \n",
      "2              559  2022-12-12  10:48:00            5  Female  40.0  Clothing   \n",
      "3             1180  2022-01-06  08:53:00           85    Male  41.0  Clothing   \n",
      "4             1522  2022-11-14  08:35:00           48    Male  46.0    Beauty   \n",
      "\n",
      "   quantiy  price_per_unit   cogs  total_sale  \n",
      "0      3.0           300.0  129.0       900.0  \n",
      "1      3.0           500.0  145.0      1500.0  \n",
      "2      4.0           300.0   84.0      1200.0  \n",
      "3      3.0           300.0  129.0       900.0  \n",
      "4      3.0           500.0  235.0      1500.0  \n"
     ]
    }
   ],
   "source": [
    "#read the csv using pandas\n",
    "csv_file = 'SQL - Retail Sales Analysis_utf .csv'  # put your correct CSV file path here\n",
    "df = pd.read_csv(csv_file)\n",
    "print(df.head())"
   ]
  },
  {
   "cell_type": "code",
   "execution_count": 9,
   "metadata": {},
   "outputs": [
    {
     "name": "stdout",
     "output_type": "stream",
     "text": [
      "Tables in the database:\n"
     ]
    }
   ],
   "source": [
    "import sqlite3\n",
    "\n",
    "conn = sqlite3.connect('retail_sales.db')\n",
    "cursor = conn.cursor()\n",
    "\n",
    "cursor.execute(\"SELECT name FROM sqlite_master WHERE type='table';\")\n",
    "tables = cursor.fetchall()\n",
    "\n",
    "print(\"Tables in the database:\")\n",
    "for table in tables:\n",
    "    print(table[0])\n",
    "\n",
    "conn.close()\n",
    "\n",
    "\n",
    "\n",
    "\n"
   ]
  },
  {
   "cell_type": "code",
   "execution_count": 10,
   "metadata": {},
   "outputs": [
    {
     "name": "stdout",
     "output_type": "stream",
     "text": [
      "['.git', '.ipynb_checkpoints', 'README.md', 'retail.db', 'retail_sales.db', 'SQL - Retail Sales Analysis_utf .csv', 'sql_query_p1.sql', 'Untitled.ipynb']\n"
     ]
    }
   ],
   "source": [
    "import os\n",
    "print(os.listdir('.'))\n"
   ]
  },
  {
   "cell_type": "code",
   "execution_count": 11,
   "metadata": {},
   "outputs": [
    {
     "name": "stdout",
     "output_type": "stream",
     "text": [
      "Tables in retail.db:\n",
      "retail_sales\n",
      "Tables in retail_sales.db:\n",
      "No tables found.\n"
     ]
    }
   ],
   "source": [
    "import sqlite3\n",
    "\n",
    "def list_tables(db_file):\n",
    "    conn = sqlite3.connect(db_file)\n",
    "    cursor = conn.cursor()\n",
    "    cursor.execute(\"SELECT name FROM sqlite_master WHERE type='table';\")\n",
    "    tables = cursor.fetchall()\n",
    "    conn.close()\n",
    "    print(f\"Tables in {db_file}:\")\n",
    "    if tables:\n",
    "        for table in tables:\n",
    "            print(table[0])\n",
    "    else:\n",
    "        print(\"No tables found.\")\n",
    "\n",
    "# Check both files\n",
    "list_tables('retail.db')\n",
    "list_tables('retail_sales.db')\n"
   ]
  },
  {
   "cell_type": "code",
   "execution_count": 12,
   "metadata": {},
   "outputs": [
    {
     "name": "stdout",
     "output_type": "stream",
     "text": [
      "  transactions_id   sale_date sale_time customer_id  gender age  category  \\\n",
      "0             180  2022-11-05  10:47:00         117    Male  41  Clothing   \n",
      "1             522  2022-07-09  11:00:00          52    Male  46    Beauty   \n",
      "2             559  2022-12-12  10:48:00           5  Female  40  Clothing   \n",
      "3            1180  2022-01-06  08:53:00          85    Male  41  Clothing   \n",
      "4            1522  2022-11-14  08:35:00          48    Male  46    Beauty   \n",
      "\n",
      "  quantiy price_per_unit cogs total_sale  \n",
      "0       3            300  129        900  \n",
      "1       3            500  145       1500  \n",
      "2       4            300   84       1200  \n",
      "3       3            300  129        900  \n",
      "4       3            500  235       1500  \n"
     ]
    }
   ],
   "source": [
    "\n",
    "\n",
    "# Connect to your database file\n",
    "conn = sqlite3.connect('retail.db')\n",
    "\n",
    "# Load a sample of your data\n",
    "df = pd.read_sql_query(\"SELECT * FROM retail_sales LIMIT 10;\", conn)\n",
    "print(df.head())\n",
    "\n",
    "conn.close()\n"
   ]
  },
  {
   "cell_type": "code",
   "execution_count": 27,
   "metadata": {},
   "outputs": [],
   "source": [
    "# Fix typo in 'quantiy' column and convert necessary columns to numeric\n",
    "df = df.rename(columns={\n",
    "    'quantiy': 'quantity',\n",
    "    'price_per_unit': 'price_per_unit',\n",
    "    'cogs': 'cogs',\n",
    "    'total_sale': 'total_sale'\n",
    "})\n",
    "\n",
    "# Convert numeric columns from object to int\n",
    "cols_to_convert = ['quantity', 'price_per_unit', 'cogs', 'total_sale', 'age']\n",
    "df[cols_to_convert] = df[cols_to_convert].apply(pd.to_numeric)\n"
   ]
  },
  {
   "cell_type": "code",
   "execution_count": 28,
   "metadata": {},
   "outputs": [
    {
     "data": {
      "text/html": [
       "<div>\n",
       "<style scoped>\n",
       "    .dataframe tbody tr th:only-of-type {\n",
       "        vertical-align: middle;\n",
       "    }\n",
       "\n",
       "    .dataframe tbody tr th {\n",
       "        vertical-align: top;\n",
       "    }\n",
       "\n",
       "    .dataframe thead th {\n",
       "        text-align: right;\n",
       "    }\n",
       "</style>\n",
       "<table border=\"1\" class=\"dataframe\">\n",
       "  <thead>\n",
       "    <tr style=\"text-align: right;\">\n",
       "      <th></th>\n",
       "      <th>transactions_id</th>\n",
       "      <th>sale_date</th>\n",
       "      <th>sale_time</th>\n",
       "      <th>customer_id</th>\n",
       "      <th>gender</th>\n",
       "      <th>age</th>\n",
       "      <th>category</th>\n",
       "      <th>quantity</th>\n",
       "      <th>price_per_unit</th>\n",
       "      <th>cogs</th>\n",
       "      <th>total_sale</th>\n",
       "      <th>profit</th>\n",
       "      <th>loss</th>\n",
       "    </tr>\n",
       "  </thead>\n",
       "  <tbody>\n",
       "    <tr>\n",
       "      <th>0</th>\n",
       "      <td>180</td>\n",
       "      <td>2022-11-05</td>\n",
       "      <td>10:47:00</td>\n",
       "      <td>117</td>\n",
       "      <td>Male</td>\n",
       "      <td>41</td>\n",
       "      <td>Clothing</td>\n",
       "      <td>3</td>\n",
       "      <td>300</td>\n",
       "      <td>129.0</td>\n",
       "      <td>900</td>\n",
       "      <td>771.0</td>\n",
       "      <td>0</td>\n",
       "    </tr>\n",
       "    <tr>\n",
       "      <th>1</th>\n",
       "      <td>522</td>\n",
       "      <td>2022-07-09</td>\n",
       "      <td>11:00:00</td>\n",
       "      <td>52</td>\n",
       "      <td>Male</td>\n",
       "      <td>46</td>\n",
       "      <td>Beauty</td>\n",
       "      <td>3</td>\n",
       "      <td>500</td>\n",
       "      <td>145.0</td>\n",
       "      <td>1500</td>\n",
       "      <td>1355.0</td>\n",
       "      <td>0</td>\n",
       "    </tr>\n",
       "    <tr>\n",
       "      <th>2</th>\n",
       "      <td>559</td>\n",
       "      <td>2022-12-12</td>\n",
       "      <td>10:48:00</td>\n",
       "      <td>5</td>\n",
       "      <td>Female</td>\n",
       "      <td>40</td>\n",
       "      <td>Clothing</td>\n",
       "      <td>4</td>\n",
       "      <td>300</td>\n",
       "      <td>84.0</td>\n",
       "      <td>1200</td>\n",
       "      <td>1116.0</td>\n",
       "      <td>0</td>\n",
       "    </tr>\n",
       "    <tr>\n",
       "      <th>3</th>\n",
       "      <td>1180</td>\n",
       "      <td>2022-01-06</td>\n",
       "      <td>08:53:00</td>\n",
       "      <td>85</td>\n",
       "      <td>Male</td>\n",
       "      <td>41</td>\n",
       "      <td>Clothing</td>\n",
       "      <td>3</td>\n",
       "      <td>300</td>\n",
       "      <td>129.0</td>\n",
       "      <td>900</td>\n",
       "      <td>771.0</td>\n",
       "      <td>0</td>\n",
       "    </tr>\n",
       "    <tr>\n",
       "      <th>4</th>\n",
       "      <td>1522</td>\n",
       "      <td>2022-11-14</td>\n",
       "      <td>08:35:00</td>\n",
       "      <td>48</td>\n",
       "      <td>Male</td>\n",
       "      <td>46</td>\n",
       "      <td>Beauty</td>\n",
       "      <td>3</td>\n",
       "      <td>500</td>\n",
       "      <td>235.0</td>\n",
       "      <td>1500</td>\n",
       "      <td>1265.0</td>\n",
       "      <td>0</td>\n",
       "    </tr>\n",
       "  </tbody>\n",
       "</table>\n",
       "</div>"
      ],
      "text/plain": [
       "  transactions_id   sale_date sale_time customer_id  gender  age  category  \\\n",
       "0             180  2022-11-05  10:47:00         117    Male   41  Clothing   \n",
       "1             522  2022-07-09  11:00:00          52    Male   46    Beauty   \n",
       "2             559  2022-12-12  10:48:00           5  Female   40  Clothing   \n",
       "3            1180  2022-01-06  08:53:00          85    Male   41  Clothing   \n",
       "4            1522  2022-11-14  08:35:00          48    Male   46    Beauty   \n",
       "\n",
       "   quantity  price_per_unit   cogs  total_sale  profit  loss  \n",
       "0         3             300  129.0         900   771.0     0  \n",
       "1         3             500  145.0        1500  1355.0     0  \n",
       "2         4             300   84.0        1200  1116.0     0  \n",
       "3         3             300  129.0         900   771.0     0  \n",
       "4         3             500  235.0        1500  1265.0     0  "
      ]
     },
     "execution_count": 28,
     "metadata": {},
     "output_type": "execute_result"
    }
   ],
   "source": [
    "df.head()"
   ]
  },
  {
   "cell_type": "code",
   "execution_count": 29,
   "metadata": {},
   "outputs": [
    {
     "name": "stdout",
     "output_type": "stream",
     "text": [
      "category\n",
      "Clothing       5850\n",
      "Beauty         3025\n",
      "Electronics      90\n",
      "Name: total_sale, dtype: int64\n"
     ]
    }
   ],
   "source": [
    "category_sales = df.groupby('category')['total_sale'].sum().sort_values(ascending=False)\n",
    "print(category_sales)\n"
   ]
  },
  {
   "cell_type": "code",
   "execution_count": 30,
   "metadata": {},
   "outputs": [
    {
     "name": "stdout",
     "output_type": "stream",
     "text": [
      "      Category  Total Quantity  Avg Price/Unit  Total Sales  Total COGS  \\\n",
      "0       Beauty               7      341.666667         3025       390.5   \n",
      "1     Clothing              20      291.666667         5850       744.0   \n",
      "2  Electronics               3       30.000000           90        14.7   \n",
      "\n",
      "   Total Profit  Total Loss  \n",
      "0        2634.5           0  \n",
      "1        5106.0           0  \n",
      "2          75.3           0  \n"
     ]
    }
   ],
   "source": [
    "# Create a profit column\n",
    "df['profit'] = df['total_sale'] - df['cogs']\n",
    "\n",
    "# Create a loss column (only shows loss amount, otherwise 0)\n",
    "df['loss'] = df['profit'].apply(lambda x: -x if x < 0 else 0)\n",
    "\n",
    "# Group by category and summarize\n",
    "grouped_df = df.groupby('category').agg({\n",
    "    'quantity': 'sum',\n",
    "    'price_per_unit': 'mean',\n",
    "    'total_sale': 'sum',\n",
    "    'cogs': 'sum',\n",
    "    'profit': 'sum',\n",
    "    'loss': 'sum'  # sum of losses (converted to positive)\n",
    "}).reset_index()\n",
    "\n",
    "# Rename columns\n",
    "grouped_df.columns = [\n",
    "    'Category', 'Total Quantity', 'Avg Price/Unit',\n",
    "    'Total Sales', 'Total COGS', 'Total Profit', 'Total Loss'\n",
    "]\n",
    "\n",
    "# Display result\n",
    "print(grouped_df)\n"
   ]
  },
  {
   "cell_type": "code",
   "execution_count": 31,
   "metadata": {},
   "outputs": [
    {
     "name": "stdout",
     "output_type": "stream",
     "text": [
      "<class 'pandas.core.frame.DataFrame'>\n",
      "RangeIndex: 10 entries, 0 to 9\n",
      "Data columns (total 13 columns):\n",
      " #   Column           Non-Null Count  Dtype  \n",
      "---  ------           --------------  -----  \n",
      " 0   transactions_id  10 non-null     object \n",
      " 1   sale_date        10 non-null     object \n",
      " 2   sale_time        10 non-null     object \n",
      " 3   customer_id      10 non-null     object \n",
      " 4   gender           10 non-null     object \n",
      " 5   age              10 non-null     int64  \n",
      " 6   category         10 non-null     object \n",
      " 7   quantity         10 non-null     int64  \n",
      " 8   price_per_unit   10 non-null     int64  \n",
      " 9   cogs             10 non-null     float64\n",
      " 10  total_sale       10 non-null     int64  \n",
      " 11  profit           10 non-null     float64\n",
      " 12  loss             10 non-null     int64  \n",
      "dtypes: float64(2), int64(5), object(6)\n",
      "memory usage: 1.1+ KB\n"
     ]
    }
   ],
   "source": [
    "df.info()"
   ]
  },
  {
   "cell_type": "code",
   "execution_count": 32,
   "metadata": {},
   "outputs": [
    {
     "data": {
      "text/plain": [
       "array(['Clothing', 'Beauty', 'Electronics'], dtype=object)"
      ]
     },
     "execution_count": 32,
     "metadata": {},
     "output_type": "execute_result"
    }
   ],
   "source": [
    "df['category'].unique()\n"
   ]
  },
  {
   "cell_type": "code",
   "execution_count": 36,
   "metadata": {},
   "outputs": [
    {
     "data": {
      "text/html": [
       "<div>\n",
       "<style scoped>\n",
       "    .dataframe tbody tr th:only-of-type {\n",
       "        vertical-align: middle;\n",
       "    }\n",
       "\n",
       "    .dataframe tbody tr th {\n",
       "        vertical-align: top;\n",
       "    }\n",
       "\n",
       "    .dataframe thead th {\n",
       "        text-align: right;\n",
       "    }\n",
       "</style>\n",
       "<table border=\"1\" class=\"dataframe\">\n",
       "  <thead>\n",
       "    <tr style=\"text-align: right;\">\n",
       "      <th></th>\n",
       "      <th>transactions_id</th>\n",
       "      <th>sale_date</th>\n",
       "      <th>sale_time</th>\n",
       "      <th>customer_id</th>\n",
       "      <th>gender</th>\n",
       "      <th>age</th>\n",
       "      <th>category</th>\n",
       "      <th>quantity</th>\n",
       "      <th>price_per_unit</th>\n",
       "      <th>cogs</th>\n",
       "      <th>total_sale</th>\n",
       "      <th>profit</th>\n",
       "      <th>loss</th>\n",
       "    </tr>\n",
       "  </thead>\n",
       "  <tbody>\n",
       "    <tr>\n",
       "      <th>0</th>\n",
       "      <td>180</td>\n",
       "      <td>2022-11-05</td>\n",
       "      <td>10:47:00</td>\n",
       "      <td>117</td>\n",
       "      <td>Male</td>\n",
       "      <td>41</td>\n",
       "      <td>Clothing</td>\n",
       "      <td>3</td>\n",
       "      <td>300</td>\n",
       "      <td>129.0</td>\n",
       "      <td>900</td>\n",
       "      <td>771.0</td>\n",
       "      <td>0</td>\n",
       "    </tr>\n",
       "    <tr>\n",
       "      <th>2</th>\n",
       "      <td>559</td>\n",
       "      <td>2022-12-12</td>\n",
       "      <td>10:48:00</td>\n",
       "      <td>5</td>\n",
       "      <td>Female</td>\n",
       "      <td>40</td>\n",
       "      <td>Clothing</td>\n",
       "      <td>4</td>\n",
       "      <td>300</td>\n",
       "      <td>84.0</td>\n",
       "      <td>1200</td>\n",
       "      <td>1116.0</td>\n",
       "      <td>0</td>\n",
       "    </tr>\n",
       "    <tr>\n",
       "      <th>3</th>\n",
       "      <td>1180</td>\n",
       "      <td>2022-01-06</td>\n",
       "      <td>08:53:00</td>\n",
       "      <td>85</td>\n",
       "      <td>Male</td>\n",
       "      <td>41</td>\n",
       "      <td>Clothing</td>\n",
       "      <td>3</td>\n",
       "      <td>300</td>\n",
       "      <td>129.0</td>\n",
       "      <td>900</td>\n",
       "      <td>771.0</td>\n",
       "      <td>0</td>\n",
       "    </tr>\n",
       "    <tr>\n",
       "      <th>5</th>\n",
       "      <td>1559</td>\n",
       "      <td>2022-08-20</td>\n",
       "      <td>07:40:00</td>\n",
       "      <td>49</td>\n",
       "      <td>Female</td>\n",
       "      <td>40</td>\n",
       "      <td>Clothing</td>\n",
       "      <td>4</td>\n",
       "      <td>300</td>\n",
       "      <td>144.0</td>\n",
       "      <td>1200</td>\n",
       "      <td>1056.0</td>\n",
       "      <td>0</td>\n",
       "    </tr>\n",
       "    <tr>\n",
       "      <th>6</th>\n",
       "      <td>163</td>\n",
       "      <td>2022-10-31</td>\n",
       "      <td>09:38:00</td>\n",
       "      <td>144</td>\n",
       "      <td>Female</td>\n",
       "      <td>64</td>\n",
       "      <td>Clothing</td>\n",
       "      <td>3</td>\n",
       "      <td>50</td>\n",
       "      <td>23.0</td>\n",
       "      <td>150</td>\n",
       "      <td>127.0</td>\n",
       "      <td>0</td>\n",
       "    </tr>\n",
       "    <tr>\n",
       "      <th>8</th>\n",
       "      <td>421</td>\n",
       "      <td>2022-04-08</td>\n",
       "      <td>08:43:00</td>\n",
       "      <td>66</td>\n",
       "      <td>Female</td>\n",
       "      <td>37</td>\n",
       "      <td>Clothing</td>\n",
       "      <td>3</td>\n",
       "      <td>500</td>\n",
       "      <td>235.0</td>\n",
       "      <td>1500</td>\n",
       "      <td>1265.0</td>\n",
       "      <td>0</td>\n",
       "    </tr>\n",
       "  </tbody>\n",
       "</table>\n",
       "</div>"
      ],
      "text/plain": [
       "  transactions_id   sale_date sale_time customer_id  gender  age  category  \\\n",
       "0             180  2022-11-05  10:47:00         117    Male   41  Clothing   \n",
       "2             559  2022-12-12  10:48:00           5  Female   40  Clothing   \n",
       "3            1180  2022-01-06  08:53:00          85    Male   41  Clothing   \n",
       "5            1559  2022-08-20  07:40:00          49  Female   40  Clothing   \n",
       "6             163  2022-10-31  09:38:00         144  Female   64  Clothing   \n",
       "8             421  2022-04-08  08:43:00          66  Female   37  Clothing   \n",
       "\n",
       "   quantity  price_per_unit   cogs  total_sale  profit  loss  \n",
       "0         3             300  129.0         900   771.0     0  \n",
       "2         4             300   84.0        1200  1116.0     0  \n",
       "3         3             300  129.0         900   771.0     0  \n",
       "5         4             300  144.0        1200  1056.0     0  \n",
       "6         3              50   23.0         150   127.0     0  \n",
       "8         3             500  235.0        1500  1265.0     0  "
      ]
     },
     "execution_count": 36,
     "metadata": {},
     "output_type": "execute_result"
    }
   ],
   "source": [
    "clothing_df = df[df['category'] == 'Clothing']\n",
    "clothing_df"
   ]
  },
  {
   "cell_type": "code",
   "execution_count": 39,
   "metadata": {},
   "outputs": [
    {
     "data": {
      "text/html": [
       "<div>\n",
       "<style scoped>\n",
       "    .dataframe tbody tr th:only-of-type {\n",
       "        vertical-align: middle;\n",
       "    }\n",
       "\n",
       "    .dataframe tbody tr th {\n",
       "        vertical-align: top;\n",
       "    }\n",
       "\n",
       "    .dataframe thead th {\n",
       "        text-align: right;\n",
       "    }\n",
       "</style>\n",
       "<table border=\"1\" class=\"dataframe\">\n",
       "  <thead>\n",
       "    <tr style=\"text-align: right;\">\n",
       "      <th></th>\n",
       "      <th>transactions_id</th>\n",
       "      <th>sale_date</th>\n",
       "      <th>sale_time</th>\n",
       "      <th>customer_id</th>\n",
       "      <th>gender</th>\n",
       "      <th>age</th>\n",
       "      <th>category</th>\n",
       "      <th>quantity</th>\n",
       "      <th>price_per_unit</th>\n",
       "      <th>cogs</th>\n",
       "      <th>total_sale</th>\n",
       "      <th>profit</th>\n",
       "      <th>loss</th>\n",
       "    </tr>\n",
       "  </thead>\n",
       "  <tbody>\n",
       "    <tr>\n",
       "      <th>1</th>\n",
       "      <td>522</td>\n",
       "      <td>2022-07-09</td>\n",
       "      <td>11:00:00</td>\n",
       "      <td>52</td>\n",
       "      <td>Male</td>\n",
       "      <td>46</td>\n",
       "      <td>Beauty</td>\n",
       "      <td>3</td>\n",
       "      <td>500</td>\n",
       "      <td>145.0</td>\n",
       "      <td>1500</td>\n",
       "      <td>1355.0</td>\n",
       "      <td>0</td>\n",
       "    </tr>\n",
       "    <tr>\n",
       "      <th>4</th>\n",
       "      <td>1522</td>\n",
       "      <td>2022-11-14</td>\n",
       "      <td>08:35:00</td>\n",
       "      <td>48</td>\n",
       "      <td>Male</td>\n",
       "      <td>46</td>\n",
       "      <td>Beauty</td>\n",
       "      <td>3</td>\n",
       "      <td>500</td>\n",
       "      <td>235.0</td>\n",
       "      <td>1500</td>\n",
       "      <td>1265.0</td>\n",
       "      <td>0</td>\n",
       "    </tr>\n",
       "    <tr>\n",
       "      <th>9</th>\n",
       "      <td>979</td>\n",
       "      <td>2022-05-18</td>\n",
       "      <td>10:18:00</td>\n",
       "      <td>6</td>\n",
       "      <td>Female</td>\n",
       "      <td>19</td>\n",
       "      <td>Beauty</td>\n",
       "      <td>1</td>\n",
       "      <td>25</td>\n",
       "      <td>10.5</td>\n",
       "      <td>25</td>\n",
       "      <td>14.5</td>\n",
       "      <td>0</td>\n",
       "    </tr>\n",
       "  </tbody>\n",
       "</table>\n",
       "</div>"
      ],
      "text/plain": [
       "  transactions_id   sale_date sale_time customer_id  gender  age category  \\\n",
       "1             522  2022-07-09  11:00:00          52    Male   46   Beauty   \n",
       "4            1522  2022-11-14  08:35:00          48    Male   46   Beauty   \n",
       "9             979  2022-05-18  10:18:00           6  Female   19   Beauty   \n",
       "\n",
       "   quantity  price_per_unit   cogs  total_sale  profit  loss  \n",
       "1         3             500  145.0        1500  1355.0     0  \n",
       "4         3             500  235.0        1500  1265.0     0  \n",
       "9         1              25   10.5          25    14.5     0  "
      ]
     },
     "execution_count": 39,
     "metadata": {},
     "output_type": "execute_result"
    }
   ],
   "source": [
    "beauty_df=df[df['category']=='Beauty']\n",
    "beauty_df"
   ]
  },
  {
   "cell_type": "code",
   "execution_count": 40,
   "metadata": {},
   "outputs": [
    {
     "data": {
      "text/html": [
       "<div>\n",
       "<style scoped>\n",
       "    .dataframe tbody tr th:only-of-type {\n",
       "        vertical-align: middle;\n",
       "    }\n",
       "\n",
       "    .dataframe tbody tr th {\n",
       "        vertical-align: top;\n",
       "    }\n",
       "\n",
       "    .dataframe thead th {\n",
       "        text-align: right;\n",
       "    }\n",
       "</style>\n",
       "<table border=\"1\" class=\"dataframe\">\n",
       "  <thead>\n",
       "    <tr style=\"text-align: right;\">\n",
       "      <th></th>\n",
       "      <th>transactions_id</th>\n",
       "      <th>sale_date</th>\n",
       "      <th>sale_time</th>\n",
       "      <th>customer_id</th>\n",
       "      <th>gender</th>\n",
       "      <th>age</th>\n",
       "      <th>category</th>\n",
       "      <th>quantity</th>\n",
       "      <th>price_per_unit</th>\n",
       "      <th>cogs</th>\n",
       "      <th>total_sale</th>\n",
       "      <th>profit</th>\n",
       "      <th>loss</th>\n",
       "    </tr>\n",
       "  </thead>\n",
       "  <tbody>\n",
       "    <tr>\n",
       "      <th>7</th>\n",
       "      <td>303</td>\n",
       "      <td>2022-04-22</td>\n",
       "      <td>11:09:00</td>\n",
       "      <td>54</td>\n",
       "      <td>Male</td>\n",
       "      <td>19</td>\n",
       "      <td>Electronics</td>\n",
       "      <td>3</td>\n",
       "      <td>30</td>\n",
       "      <td>14.7</td>\n",
       "      <td>90</td>\n",
       "      <td>75.3</td>\n",
       "      <td>0</td>\n",
       "    </tr>\n",
       "  </tbody>\n",
       "</table>\n",
       "</div>"
      ],
      "text/plain": [
       "  transactions_id   sale_date sale_time customer_id gender  age     category  \\\n",
       "7             303  2022-04-22  11:09:00          54   Male   19  Electronics   \n",
       "\n",
       "   quantity  price_per_unit  cogs  total_sale  profit  loss  \n",
       "7         3              30  14.7          90    75.3     0  "
      ]
     },
     "execution_count": 40,
     "metadata": {},
     "output_type": "execute_result"
    }
   ],
   "source": [
    "beauty_df=df[df['category']=='Electronics']\n",
    "beauty_df"
   ]
  },
  {
   "cell_type": "code",
   "execution_count": 45,
   "metadata": {},
   "outputs": [
    {
     "name": "stdout",
     "output_type": "stream",
     "text": [
      "                            OLS Regression Results                            \n",
      "==============================================================================\n",
      "Dep. Variable:             total_sale   R-squared:                       0.284\n",
      "Model:                            OLS   Adj. R-squared:                  0.194\n",
      "Method:                 Least Squares   F-statistic:                     3.169\n",
      "Date:                Fri, 30 May 2025   Prob (F-statistic):              0.113\n",
      "Time:                        13:33:47   Log-Likelihood:                -75.970\n",
      "No. Observations:                  10   AIC:                             155.9\n",
      "Df Residuals:                       8   BIC:                             156.5\n",
      "Df Model:                           1                                         \n",
      "Covariance Type:            nonrobust                                         \n",
      "==============================================================================\n",
      "                 coef    std err          t      P>|t|      [0.025      0.975]\n",
      "------------------------------------------------------------------------------\n",
      "const       -278.5000    681.716     -0.409      0.694   -1850.541    1293.541\n",
      "quantity     391.6667    220.023      1.780      0.113    -115.707     899.041\n",
      "==============================================================================\n",
      "Omnibus:                        0.335   Durbin-Watson:                   1.975\n",
      "Prob(Omnibus):                  0.846   Jarque-Bera (JB):                0.447\n",
      "Skew:                          -0.253   Prob(JB):                        0.800\n",
      "Kurtosis:                       2.096   Cond. No.                         13.6\n",
      "==============================================================================\n",
      "\n",
      "Notes:\n",
      "[1] Standard Errors assume that the covariance matrix of the errors is correctly specified.\n"
     ]
    },
    {
     "name": "stderr",
     "output_type": "stream",
     "text": [
      "C:\\Users\\This PC\\anaconda3\\envs\\learn-env\\lib\\site-packages\\scipy\\stats\\stats.py:1603: UserWarning: kurtosistest only valid for n>=20 ... continuing anyway, n=10\n",
      "  warnings.warn(\"kurtosistest only valid for n>=20 ... continuing \"\n"
     ]
    }
   ],
   "source": [
    "import statsmodels.api as sm\n",
    "\n",
    "X = df['quantity']\n",
    "y = df['total_sale']\n",
    "\n",
    "# Add constant for intercept\n",
    "X = sm.add_constant(X)\n",
    "\n",
    "model = sm.OLS(y, X).fit()\n",
    "print(model.summary())\n"
   ]
  },
  {
   "cell_type": "code",
   "execution_count": 46,
   "metadata": {},
   "outputs": [
    {
     "name": "stdout",
     "output_type": "stream",
     "text": [
      "T-statistic: 0.40892863415161823, P-value: 0.6933203606237719\n"
     ]
    }
   ],
   "source": [
    "from scipy.stats import ttest_ind\n",
    "\n",
    "male_sales = df[df['gender'] == 'Male']['total_sale']\n",
    "female_sales = df[df['gender'] == 'Female']['total_sale']\n",
    "\n",
    "t_stat, p_val = ttest_ind(male_sales, female_sales)\n",
    "print(f\"T-statistic: {t_stat}, P-value: {p_val}\")\n"
   ]
  },
  {
   "cell_type": "code",
   "execution_count": null,
   "metadata": {},
   "outputs": [],
   "source": []
  }
 ],
 "metadata": {
  "kernelspec": {
   "display_name": "Python 3",
   "language": "python",
   "name": "python3"
  },
  "language_info": {
   "codemirror_mode": {
    "name": "ipython",
    "version": 3
   },
   "file_extension": ".py",
   "mimetype": "text/x-python",
   "name": "python",
   "nbconvert_exporter": "python",
   "pygments_lexer": "ipython3",
   "version": "3.8.5"
  }
 },
 "nbformat": 4,
 "nbformat_minor": 4
}
